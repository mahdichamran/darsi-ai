{
 "cells": [
  {
   "cell_type": "code",
   "execution_count": 4,
   "id": "adb52940-860c-4619-83ef-c28d097c9cba",
   "metadata": {},
   "outputs": [],
   "source": [
    "d = [(1, 3), (3, 1)]\n",
    "def khata(w, b):\n",
    "    s = 0\n",
    "    for x, y in d:\n",
    "        s += (y - (w * x + b))**2\n",
    "    return s\n",
    "def d_w(w, b):\n",
    "    s = 0\n",
    "    for x, y in d:\n",
    "        s += -2 * x * (y - (w * x + b))\n",
    "    return s\n",
    "def d_b(w, b):\n",
    "    s = 0\n",
    "    for x, y in d:\n",
    "        s += -2 * (y - (w * x + b))\n",
    "    return s\n",
    "w = 0\n",
    "b = 0\n",
    "alpha = 0.01\n",
    "for i in range(10):\n",
    "    fval = khata(w, b)\n",
    "    dw = d_w(w, b)\n",
    "    db = d_b(w, b)\n",
    "    w = w - alpha * dw\n",
    "    b = b - alpha * db"
   ]
  },
  {
   "cell_type": "code",
   "execution_count": 5,
   "id": "d307c8f4-7cee-40df-8af6-7d17fcad9125",
   "metadata": {},
   "outputs": [
    {
     "name": "stdout",
     "output_type": "stream",
     "text": [
      "0.4174 0.4666 5.0779\n"
     ]
    }
   ],
   "source": [
    "    print (round(w, 4),round(b, 4),round(fval, 4))"
   ]
  },
  {
   "cell_type": "code",
   "execution_count": null,
   "id": "6a2d8118-ef07-492c-8d51-c77dc8fee9ab",
   "metadata": {},
   "outputs": [],
   "source": [
    "#AI help = chatGPT"
   ]
  }
 ],
 "metadata": {
  "kernelspec": {
   "display_name": "Python 3 (ipykernel)",
   "language": "python",
   "name": "python3"
  },
  "language_info": {
   "codemirror_mode": {
    "name": "ipython",
    "version": 3
   },
   "file_extension": ".py",
   "mimetype": "text/x-python",
   "name": "python",
   "nbconvert_exporter": "python",
   "pygments_lexer": "ipython3",
   "version": "3.11.9"
  }
 },
 "nbformat": 4,
 "nbformat_minor": 5
}
