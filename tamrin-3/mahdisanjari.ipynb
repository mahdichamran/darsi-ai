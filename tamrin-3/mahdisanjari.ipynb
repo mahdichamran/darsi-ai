{
  "cells": [
    {
      "cell_type": "code",
      "execution_count": null,
      "metadata": {},
      "outputs": [],
      "source": [
        "def calc_error(y, y_pred):\n",
        "    total = 0\n",
        "    for a, b in zip(y, y_pred):\n",
        "        total += (a - b) ** 2\n",
        "    return total\n",
        "\n",
        "y = [1, 2, 3]\n",
        "y_pred = [2, 2, 4]\n",
        "print(\"Error value:\", calc_error(y, y_pred))"
      ]
    }
  ],
  "metadata": {
    "kernelspec": {
      "display_name": "Python 3",
      "language": "python",
      "name": "python3"
    },
    "language_info": {
      "name": "python",
      "version": "3.x"
    }
  },
  "nbformat": 4,
  "nbformat_minor": 2
}